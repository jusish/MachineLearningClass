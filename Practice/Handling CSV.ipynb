{
 "cells": [
  {
   "cell_type": "code",
   "execution_count": 2,
   "id": "182a531c-6666-4ee2-95bc-fc118ba2208b",
   "metadata": {},
   "outputs": [
    {
     "name": "stdout",
     "output_type": "stream",
     "text": [
      "Fetching patient data...\n",
      "Patient data exported to 'patients.csv'.\n",
      "Name and DOB exported to 'name_dob.csv'.\n",
      "Contact info exported to 'contactinfo_dateattended.csv'.\n",
      "Concatenated name and DOB with contact info and date exported to 'all.csv'.\n"
     ]
    }
   ],
   "source": [
    "import requests\n",
    "import pandas as pd\n",
    "\n",
    "BASE_URL = \"http://127.0.0.1:5000\"\n",
    "\n",
    "def get_auth_token():\n",
    "    \"\"\"Fetch JWT token for authentication.\"\"\"\n",
    "    auth_data = {\"username\": \"justin\", \"password\": \"password123\"}  # Replace with your password\n",
    "    try:\n",
    "        token_response = requests.post(f\"{BASE_URL}/token\", data=auth_data)\n",
    "        if token_response.status_code == 200:\n",
    "            return token_response.json().get(\"access_token\")\n",
    "        print(f\"Failed to get token. Response: {token_response.text}\")\n",
    "    except Exception as e:\n",
    "        print(f\"Error getting token: {str(e)}\")\n",
    "    return None\n",
    "\n",
    "def fetch_patients_data(token):\n",
    "    \"\"\"Fetch patient data from the API.\"\"\"\n",
    "    headers = {\"Authorization\": f\"Bearer {token}\"}\n",
    "    try:\n",
    "        response = requests.get(f\"{BASE_URL}/patients\", headers=headers)\n",
    "        if response.status_code == 200:\n",
    "            return pd.DataFrame(response.json())\n",
    "        print(f\"Failed to fetch patient data. Response: {response.text}\")\n",
    "    except Exception as e:\n",
    "        print(f\"Error fetching patient data: {str(e)}\")\n",
    "    return None\n",
    "\n",
    "def main():\n",
    "    token = get_auth_token()  # Get the token here\n",
    "\n",
    "    if not token:\n",
    "        print(\"Authentication failed. Exiting...\")\n",
    "        return\n",
    "\n",
    "    print(\"Fetching patient data...\")\n",
    "    patients_df = fetch_patients_data(token)\n",
    "\n",
    "    if patients_df is None or patients_df.empty:\n",
    "        print(\"No patient data fetched. Exiting...\")\n",
    "        return\n",
    "\n",
    "    patients_df.to_csv('patients.csv', index=False)\n",
    "    print(\"Patient data exported to 'patients.csv'.\")\n",
    "\n",
    "    name_dob_df = patients_df[['name', 'dob']]\n",
    "    name_dob_df.to_csv('name_dob.csv', index=False)\n",
    "    print(\"Name and DOB exported to 'name_dob.csv'.\")\n",
    "\n",
    "    contact_info_date_df = patients_df[['contact_info', 'date_attended']]\n",
    "    contact_info_date_df.to_csv('contactinfo_dateattended.csv', index=False)\n",
    "    print(\"Contact info exported to 'contactinfo_dateattended.csv'.\")\n",
    "\n",
    "    concatenated_df = pd.concat([name_dob_df, contact_info_date_df], axis=1)\n",
    "    concatenated_df.to_csv('all.csv', index=False)\n",
    "    print(\"Concatenated name and DOB with contact info and date exported to 'all.csv'.\")\n",
    "\n",
    "if __name__ == \"__main__\":\n",
    "    main()\n"
   ]
  },
  {
   "cell_type": "code",
   "execution_count": null,
   "id": "d94437fc-5dcd-466f-a36b-13002db6b6f7",
   "metadata": {},
   "outputs": [],
   "source": []
  }
 ],
 "metadata": {
  "kernelspec": {
   "display_name": "Python 3 (ipykernel)",
   "language": "python",
   "name": "python3"
  },
  "language_info": {
   "codemirror_mode": {
    "name": "ipython",
    "version": 3
   },
   "file_extension": ".py",
   "mimetype": "text/x-python",
   "name": "python",
   "nbconvert_exporter": "python",
   "pygments_lexer": "ipython3",
   "version": "3.12.7"
  }
 },
 "nbformat": 4,
 "nbformat_minor": 5
}
